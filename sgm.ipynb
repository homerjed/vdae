{
 "cells": [
  {
   "cell_type": "code",
   "execution_count": 22,
   "metadata": {},
   "outputs": [],
   "source": [
    "from functools import partial\n",
    "import jax\n",
    "import jax.numpy as jnp\n",
    "import jax.random as jr\n",
    "import equinox as eqx\n",
    "import diffrax as dfx  \n",
    "import optax  \n",
    "import matplotlib.pyplot as plt\n",
    "from sklearn import datasets\n",
    "from tqdm.notebook import trange\n",
    "\n",
    "from models import ResidualNetwork"
   ]
  },
  {
   "cell_type": "code",
   "execution_count": 23,
   "metadata": {},
   "outputs": [],
   "source": [
    "def int_beta(t):\n",
    "    return t\n",
    "\n",
    "\n",
    "def weight(t): \n",
    "    return 1. - jnp.exp(-int_beta(t))  \n",
    "\n",
    "\n",
    "def single_loss_fn(model, weight, int_beta, data, t, key):\n",
    "    mean = data * jnp.exp(-0.5 * int_beta(t))\n",
    "    var = jnp.maximum(1. - jnp.exp(-int_beta(t)), 1e-5)\n",
    "    std = jnp.sqrt(var)\n",
    "    noise = jr.normal(key, data.shape)\n",
    "    y = mean + std * noise\n",
    "    pred = model(y, t)\n",
    "    return weight(t) * jnp.mean((pred + noise / std) ** 2)\n",
    "\n",
    "\n",
    "def batch_loss_fn(model, weight, int_beta, data, t1, key):\n",
    "    batch_size = data.shape[0]\n",
    "    tkey, losskey = jr.split(key)\n",
    "    losskey = jr.split(losskey, batch_size)\n",
    "    # Low-discrepancy sampling over t to reduce variance\n",
    "    t = jr.uniform(tkey, (batch_size,), minval=0, maxval=t1 / batch_size)\n",
    "    t = t + (t1 / batch_size) * jnp.arange(batch_size)\n",
    "    loss_fn = partial(single_loss_fn, model, weight, int_beta)\n",
    "    loss_fn = jax.vmap(loss_fn)\n",
    "    return jnp.mean(loss_fn(data, t, losskey))\n",
    "\n",
    "\n",
    "@eqx.filter_jit\n",
    "def single_sample_fn(model, int_beta, data_shape, dt0, t1, key):\n",
    "    def drift(t, y, args):\n",
    "        _, beta = jax.jvp(int_beta, (t,), (jnp.ones_like(t),))\n",
    "        return -0.5 * beta * (y + model(y, t)) \n",
    "\n",
    "    term = dfx.ODETerm(drift)\n",
    "    solver = dfx.Tsit5()\n",
    "    t0 = 0.\n",
    "    y1 = jr.normal(key, data_shape)\n",
    "    # reverse time, solve from t1 to t0\n",
    "    sol = dfx.diffeqsolve(term, solver, t1, t0, -dt0, y1)\n",
    "    return sol.ys[0]\n",
    "\n",
    "\n",
    "@eqx.filter_jit\n",
    "def make_step(model, weight, int_beta, data, t1, key, opt_state, opt_update):\n",
    "    loss_fn = eqx.filter_value_and_grad(batch_loss_fn)\n",
    "    loss, grads = loss_fn(model, weight, int_beta, data, t1, key)\n",
    "    updates, opt_state = opt_update(grads, opt_state)\n",
    "    model = eqx.apply_updates(model, updates)\n",
    "    key = jr.split(key, 1)[0]\n",
    "    return loss, model, key, opt_state\n",
    "\n",
    "\n",
    "def dataloader(data, batch_size, *, key):\n",
    "    dataset_size = data.shape[0]\n",
    "    indices = jnp.arange(dataset_size)\n",
    "    while True:\n",
    "        key, subkey = jr.split(key, 2)\n",
    "        perm = jr.permutation(subkey, indices)\n",
    "        start = 0\n",
    "        end = batch_size\n",
    "        while end < dataset_size:\n",
    "            batch_perm = perm[start:end]\n",
    "            yield data[batch_perm]\n",
    "            start = end\n",
    "            end = start + batch_size"
   ]
  },
  {
   "cell_type": "code",
   "execution_count": 24,
   "metadata": {},
   "outputs": [],
   "source": [
    "key = jr.key(0)\n",
    "\n",
    "model = ResidualNetwork(\n",
    "    in_size=2, \n",
    "    out_size=2, \n",
    "    width_size=128, \n",
    "    depth=2, \n",
    "    y_dim=1, # Just scalar time\n",
    "    activation=jax.nn.gelu, \n",
    "    key=key\n",
    ")"
   ]
  },
  {
   "cell_type": "code",
   "execution_count": 25,
   "metadata": {},
   "outputs": [],
   "source": [
    "X, Y = datasets.make_moons(10_000, noise=0.05)\n",
    "X, Y = jnp.asarray(X), jnp.asarray(Y)[:, jnp.newaxis]"
   ]
  },
  {
   "cell_type": "code",
   "execution_count": 26,
   "metadata": {},
   "outputs": [
    {
     "data": {
      "application/vnd.jupyter.widget-view+json": {
       "model_id": "19661c61f79f4f2b8d738439ad5ee4d3",
       "version_major": 2,
       "version_minor": 0
      },
      "text/plain": [
       "  0%|          | 0/100000 [00:00<?, ?it/s]"
      ]
     },
     "metadata": {},
     "output_type": "display_data"
    }
   ],
   "source": [
    "key, train_key, loader_key = jr.split(key, 3) \n",
    "\n",
    "t1 = 1.\n",
    "batch_size = 1000 \n",
    "lr = 1e-3\n",
    "num_steps = 100_000\n",
    "\n",
    "opt = optax.adabelief(lr)\n",
    "# Optax will update the floating-point JAX arrays in the model.\n",
    "opt_state = opt.init(eqx.filter(model, eqx.is_inexact_array))\n",
    "\n",
    "total_value = 0\n",
    "total_size = 0\n",
    "with trange(num_steps) as bar:\n",
    "    for step, x in zip(\n",
    "        bar, dataloader(X, batch_size, key=loader_key)\n",
    "    ):\n",
    "        value, model, train_key, opt_state = make_step(\n",
    "            model, weight, int_beta, x, t1, train_key, opt_state, opt.update\n",
    "        )\n",
    "        bar.set_postfix_str(f\"Loss={total_value / total_size:.3E}\")"
   ]
  },
  {
   "cell_type": "code",
   "execution_count": 29,
   "metadata": {},
   "outputs": [
    {
     "data": {
      "image/png": "[encoded data removed]",
      "text/plain": [
       "<Figure size 640x480 with 1 Axes>"
      ]
     },
     "metadata": {},
     "output_type": "display_data"
    }
   ],
   "source": [
    "data_shape = X.shape[1:]\n",
    "dt0 = 0.01\n",
    "sample_size = 100_000\n",
    "\n",
    "key, sample_key = jr.split(key)\n",
    "sample_keys = jr.split(sample_key, sample_size)\n",
    "sample_fn = partial(\n",
    "    single_sample_fn, model, int_beta, data_shape, dt0, t1\n",
    ")\n",
    "sample = jax.vmap(sample_fn)(sample_keys)\n",
    "\n",
    "plt.figure()\n",
    "plt.hist2d(*sample.T, bins=100, cmap=\"gray_r\")\n",
    "plt.show()"
   ]
  },
  {
   "cell_type": "code",
   "execution_count": 28,
   "metadata": {},
   "outputs": [],
   "source": [
    "eqx.tree_serialise_leaves(\"sgm.eqx\", model)"
   ]
  }
 ],
 "metadata": {
  "kernelspec": {
   "display_name": "vit",
   "language": "python",
   "name": "python3"
  },
  "language_info": {
   "codemirror_mode": {
    "name": "ipython",
    "version": 3
   },
   "file_extension": ".py",
   "mimetype": "text/x-python",
   "name": "python",
   "nbconvert_exporter": "python",
   "pygments_lexer": "ipython3",
   "version": "3.12.4"
  }
 },
 "nbformat": 4,
 "nbformat_minor": 2
}
