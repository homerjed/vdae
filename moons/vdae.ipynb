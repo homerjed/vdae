{
 "cells": [
  {
   "cell_type": "code",
   "execution_count": 1,
   "metadata": {},
   "outputs": [],
   "source": [
    "from functools import partial\n",
    "import jax\n",
    "import jax.numpy as jnp\n",
    "import jax.random as jr\n",
    "import equinox as eqx\n",
    "import diffrax as dfx\n",
    "from jaxtyping import Key, Array\n",
    "import optax\n",
    "import tensorflow_probability.substrates.jax.distributions as tfd\n",
    "from sklearn import datasets\n",
    "from tqdm.notebook import trange\n",
    "import matplotlib.pyplot as plt\n",
    "\n",
    "from models import ResidualNetwork"
   ]
  },
  {
   "cell_type": "code",
   "execution_count": 2,
   "metadata": {},
   "outputs": [],
   "source": [
    "class Encoder(eqx.Module):\n",
    "    net: eqx.nn.MLP\n",
    "\n",
    "    def __init__(self, mlp_kwargs, *, key):\n",
    "        self.net = eqx.nn.MLP(**mlp_kwargs, key=key)\n",
    "\n",
    "    def __call__(self, x_t, t):\n",
    "        return self.encode(x_t, t)\n",
    "    \n",
    "    def variational_posterior_log_prob(self, key, x_0, x_t, t):\n",
    "        # This is the score of log(q(z|x_t, t))\n",
    "        mu_t, sigma_t = self.encode(x_t, t)\n",
    "        # Encode input data\n",
    "        mu_0, sigma_0 = self.encode(x_0, 0.) # z ~ q(z|x_0, 0), as per diagram\n",
    "        z = jr.multivariate_normal(key, mu_0, jnp.diag(sigma_0))\n",
    "        return jax.scipy.stats.multivariate_normal.logpdf(z, mu_t, jnp.diag(sigma_t))\n",
    "\n",
    "    def encode(self, x_t, t):\n",
    "        t = jnp.atleast_1d(t)\n",
    "        x_t_t = jnp.concatenate([x_t.flatten(), t])\n",
    "        mu_t, log_sigma_t = jnp.split(self.net(x_t_t), 2)\n",
    "        return mu_t, jnp.exp(log_sigma_t)\n",
    "\n",
    "    def score(self, key, x, x_t, t): \n",
    "        # Score of variational distribution q(z|x_t, t) defined by encoder\n",
    "        return jax.jacfwd(self.variational_posterior_log_prob, argnums=2)(key, x, x_t, t)\n",
    "\n",
    "    def prior_log_prob_z(self, z):\n",
    "        return jax.scipy.stats.norm.logpdf(z).sum() # Unit Gaussian "
   ]
  },
  {
   "cell_type": "code",
   "execution_count": 3,
   "metadata": {},
   "outputs": [],
   "source": [
    "key = jr.key(0)\n",
    "\n",
    "score_network = ResidualNetwork(\n",
    "    in_size=2, \n",
    "    out_size=2, \n",
    "    width_size=128, \n",
    "    depth=2, \n",
    "    y_dim=1, # Just scalar time\n",
    "    activation=jax.nn.gelu, \n",
    "    key=key\n",
    ")\n",
    "\n",
    "score_network = eqx.tree_deserialise_leaves(\"sgm.eqx\", score_network)\n",
    "\n",
    "encoder = Encoder(\n",
    "    dict(\n",
    "        in_size=2 + 1, # [x_t, t]\n",
    "        out_size=1 + 1, # Latent dim = 1, outputing mu, sigma\n",
    "        width_size=32, \n",
    "        depth=2, \n",
    "        activation=jax.nn.tanh\n",
    "    ),\n",
    "    key=key\n",
    ")"
   ]
  },
  {
   "cell_type": "code",
   "execution_count": 4,
   "metadata": {},
   "outputs": [],
   "source": [
    "def kl_loss(mu, sigma):\n",
    "    # Assuming sigma is diagonal elements of covariance\n",
    "    return mu.T @ mu + sigma.sum() - mu.size - jnp.prod(sigma)\n",
    "\n",
    "\n",
    "def int_beta(t):\n",
    "    return t\n",
    "\n",
    "\n",
    "def weight(t): \n",
    "    return 1. - jnp.exp(-int_beta(t))  \n",
    "\n",
    "\n",
    "def dataloader(x, batch_size, *, key):\n",
    "    dataset_size = x.shape[0]\n",
    "    indices = jnp.arange(dataset_size)\n",
    "    while True:\n",
    "        key, subkey = jr.split(key, 2)\n",
    "        perm = jr.permutation(subkey, indices)\n",
    "        start = 0\n",
    "        end = batch_size\n",
    "        while end < dataset_size:\n",
    "            batch_perm = perm[start:end]\n",
    "            yield x[batch_perm]\n",
    "            start = end\n",
    "            end = start + batch_size\n",
    "\n",
    "\n",
    "def single_loss_fn(encoder, score_network, weight, int_beta, x, t, key):\n",
    "    # Encoder training objective given trained diffusion model\n",
    "    key_score, key_noise = jr.split(key)\n",
    "    t = jnp.atleast_1d(t)\n",
    "\n",
    "    # Diffusion loss calculations\n",
    "    mean = x * jnp.exp(-0.5 * int_beta(t))\n",
    "    var = jnp.maximum(1. - jnp.exp(-int_beta(t)), 1e-5)\n",
    "    std = jnp.sqrt(var)\n",
    "    noise = jr.normal(key_noise, x.shape)\n",
    "    x_t = mean + std * noise\n",
    "\n",
    "    mu_t, sigma_t = encoder.encode(x_t, t)\n",
    "\n",
    "    _score = score_network(x_t, t) \n",
    "    _score_encoder = encoder.score(key_score, x, x_t, t) # d_(x_t)[log q(z|x_t, t)]\n",
    "    score = _score + _score_encoder # Bayes rule for scores\n",
    "\n",
    "    # Score of encoder model plus score of diffusion model\n",
    "    return weight(t) * jnp.square(score + noise / std) - kl_loss(mu_t, sigma_t)\n",
    "\n",
    "\n",
    "def batch_loss_fn(encoder, score_network, weight, int_beta, x, t1, key):\n",
    "    batch_size = x.shape[0]\n",
    "    key_t, key_L = jr.split(key)\n",
    "    keys = jr.split(key_L, batch_size)\n",
    "\n",
    "    # Low-discrepancy sampling over t to reduce variance\n",
    "    t = jr.uniform(key_t, (batch_size,), minval=0., maxval=t1 / batch_size)\n",
    "    t = t + (t1 / batch_size) * jnp.arange(batch_size)\n",
    "\n",
    "    loss_fn = partial(single_loss_fn, encoder, score_network, weight, int_beta)\n",
    "    return jnp.mean(jax.vmap(loss_fn)(x, t, keys))\n",
    "\n",
    "\n",
    "@eqx.filter_jit\n",
    "def make_step(encoder, score_network, weight, int_beta, x, t1, key, opt_state, opt_update):\n",
    "    loss_fn = eqx.filter_value_and_grad(batch_loss_fn)\n",
    "    loss, grads = loss_fn(encoder, score_network, weight, int_beta, x, t1, key)\n",
    "    updates, opt_state = opt_update(grads, opt_state, encoder)\n",
    "    encoder = eqx.apply_updates(encoder, updates)\n",
    "    key = jr.split(key, 1)[0]\n",
    "    return loss, encoder, key, opt_state"
   ]
  },
  {
   "cell_type": "code",
   "execution_count": 5,
   "metadata": {},
   "outputs": [],
   "source": [
    "X, Y = datasets.make_moons(10_000, noise=0.05)\n",
    "X, Y = jnp.asarray(X), jnp.asarray(Y)[:, jnp.newaxis]"
   ]
  },
  {
   "cell_type": "code",
   "execution_count": 6,
   "metadata": {},
   "outputs": [
    {
     "data": {
      "application/vnd.jupyter.widget-view+json": {
       "model_id": "390908301a6e4d7a9bdcb1a013c7771d",
       "version_major": 2,
       "version_minor": 0
      },
      "text/plain": [
       "  0%|          | 0/10000 [00:00<?, ?it/s]"
      ]
     },
     "metadata": {},
     "output_type": "display_data"
    }
   ],
   "source": [
    "key, train_key, loader_key = jr.split(key, 3) \n",
    "\n",
    "t1 = 1.\n",
    "batch_size = 1000 \n",
    "lr = 1e-3\n",
    "num_steps = 100_000\n",
    "\n",
    "opt = optax.adamw(1e-3)\n",
    "opt_state = opt.init(eqx.filter(encoder, eqx.is_array)) # Gradients only needed for encoder\n",
    "\n",
    "losses = []\n",
    "with trange(num_steps) as bar:\n",
    "    for step, data in zip(bar, dataloader(X, batch_size, key=loader_key)):\n",
    "\n",
    "        value, encoder, train_key, opt_state = make_step(\n",
    "            encoder, \n",
    "            score_network, \n",
    "            weight, \n",
    "            int_beta, \n",
    "            data, \n",
    "            t1, \n",
    "            train_key, \n",
    "            opt_state, \n",
    "            opt.update\n",
    "        )\n",
    "\n",
    "        losses.append(value)\n",
    "        bar.set_postfix_str(f\"Loss={value:.3E}\")"
   ]
  },
  {
   "cell_type": "code",
   "execution_count": null,
   "metadata": {},
   "outputs": [
    {
     "data": {
      "image/png": "[encoded data removed]",
      "text/plain": [
       "<Figure size 640x480 with 1 Axes>"
      ]
     },
     "metadata": {},
     "output_type": "display_data"
    }
   ],
   "source": [
    "plt.figure()\n",
    "plt.plot(losses)\n",
    "plt.show()"
   ]
  },
  {
   "cell_type": "code",
   "execution_count": null,
   "metadata": {},
   "outputs": [],
   "source": [
    "@partial(jax.jacfwd, argnums=2)\n",
    "def q_z_x_t_t(encoder, z, x_t, t):\n",
    "    # Score (given wrapper) of variational posterior\n",
    "    mu_t, sigma_t = encoder.encode(x_t, t)\n",
    "    return jax.scipy.stats.multivariate_normal.logpdf(z, mu_t, jnp.diag(sigma_t))\n",
    "\n",
    "\n",
    "@eqx.filter_jit\n",
    "def single_sample_fn(\n",
    "    score_network, encoder, int_beta, data_shape, latent_shape, dt0, t1, key\n",
    "):\n",
    "\n",
    "    def drift(t, y, args):\n",
    "        (z, encoder) = args\n",
    "        _, beta = jax.jvp(int_beta, (t,), (jnp.ones_like(t),))\n",
    "        score_q = q_z_x_t_t(encoder, z, y, t)\n",
    "        score = score_network(y, t)\n",
    "        return -0.5 * beta * (y + (score + score_q)) \n",
    "\n",
    "    key_y1, key_z = jr.split(key)\n",
    "    term = dfx.ODETerm(drift)\n",
    "    solver = dfx.Tsit5()\n",
    "    t0 = 0.\n",
    "    y1 = jr.normal(key_y1, data_shape)\n",
    "    z = jr.normal(key_z, latent_shape) # Sample latents like a VAE\n",
    "    sol = dfx.diffeqsolve(term, solver, t1, t0, -dt0, y1, args=(z, encoder)) # Reverse time, solve from t1 to t0\n",
    "    return sol.ys[0]"
   ]
  },
  {
   "cell_type": "code",
   "execution_count": null,
   "metadata": {},
   "outputs": [
    {
     "name": "stderr",
     "output_type": "stream",
     "text": [
      "/Users/Jed.Homer/phd/random/vit_basic/vit/lib/python3.12/site-packages/jax/_src/core.py:678: FutureWarning: unhashable type: <class 'jax._src.interpreters.partial_eval.DynamicJaxprTracer'>. Attempting to hash a tracer will lead to an error in a future JAX release.\n",
      "  warnings.warn(\n"
     ]
    }
   ],
   "source": [
    "data_shape = X.shape[1:]\n",
    "latent_shape = (1,)\n",
    "dt0 = 0.01\n",
    "sample_size = 100_000\n",
    "\n",
    "key, sample_key = jr.split(key)\n",
    "sample_keys = jr.split(sample_key, sample_size)\n",
    "sample_fn = partial(\n",
    "    single_sample_fn, \n",
    "    score_network, \n",
    "    encoder, \n",
    "    int_beta, \n",
    "    data_shape, \n",
    "    latent_shape, \n",
    "    dt0, \n",
    "    t1\n",
    ")\n",
    "sample = jax.vmap(sample_fn)(sample_keys)\n",
    "\n",
    "plt.figure()\n",
    "plt.hist2d(*sample.T, bins=100, cmap=\"gray_r\")\n",
    "plt.show()"
   ]
  },
  {
   "cell_type": "code",
   "execution_count": null,
   "metadata": {},
   "outputs": [
    {
     "data": {
      "image/png": "[encoded data removed]",
      "text/plain": [
       "<Figure size 640x480 with 1 Axes>"
      ]
     },
     "metadata": {},
     "output_type": "display_data"
    }
   ],
   "source": [
    "mu, sigma = jax.vmap(encoder.encode, in_axes=(0, None))(X, 0.)\n",
    "Z = mu + jr.normal(key, (len(X),)) * sigma\n",
    "\n",
    "plt.hist(Z.flatten(), bins=64, density=True)\n",
    "plt.show()"
   ]
  }
 ],
 "metadata": {
  "kernelspec": {
   "display_name": "vit",
   "language": "python",
   "name": "python3"
  },
  "language_info": {
   "codemirror_mode": {
    "name": "ipython",
    "version": 3
   },
   "file_extension": ".py",
   "mimetype": "text/x-python",
   "name": "python",
   "nbconvert_exporter": "python",
   "pygments_lexer": "ipython3",
   "version": "3.12.4"
  }
 },
 "nbformat": 4,
 "nbformat_minor": 2
}
